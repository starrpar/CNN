{
 "cells": [
  {
   "cell_type": "markdown",
   "metadata": {},
   "source": [
    "Initial CNNs using pytorch"
   ]
  },
  {
   "cell_type": "code",
   "execution_count": null,
   "metadata": {},
   "outputs": [],
   "source": [
    "import torch\n",
    "import torch.nn as nn"
   ]
  },
  {
   "cell_type": "code",
   "execution_count": null,
   "metadata": {},
   "outputs": [],
   "source": [
    "def pth_conv(input, kernel, stride=1, padding=0):\n",
    "    #input - N C H W (batch_size, Channels, H x W)\n",
    "    # in_channels, out_channels, bias, stride, padding\n",
    "\n",
    "    #kernel - out, in, kh, kw\n",
    "    out_channels, in_channels, kh, kw = kernel.shape\n",
    "    conv_layer = nn.Conv2d(in_channels, out_channels, kernel_size= (kh, kw), bias=False, stride=1, padding=0)\n",
    "    conv_layer.weight = nn.Parameter(kernel)\n",
    "    return conv_layer(input)"
   ]
  },
  {
   "cell_type": "code",
   "execution_count": null,
   "metadata": {},
   "outputs": [],
   "source": [
    "input = torch.tensor([[1,2,3],[4,5,6],[7,8,9]]).unsqueeze(0).unsqueeze(0).float()\n",
    "kernel = torch.tensor([[1,0],[0,1]]).unsqueeze(0).unsqueeze(0).float()\n",
    "output = pth_conv(input, kernel)\n",
    "print(output)\n",
    "assert torch.equal(output, torch.tensor([[[[6,8],[12,14]]]]))"
   ]
  }
 ],
 "metadata": {
  "language_info": {
   "name": "python"
  }
 },
 "nbformat": 4,
 "nbformat_minor": 2
}
