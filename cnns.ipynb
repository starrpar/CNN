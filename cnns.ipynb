{
 "cells": [
  {
   "cell_type": "markdown",
   "metadata": {},
   "source": [
    "Initial CNNs using pytorch"
   ]
  },
  {
   "cell_type": "code",
   "execution_count": 8,
   "metadata": {},
   "outputs": [],
   "source": [
    "import torch\n",
    "import torch.nn as nn"
   ]
  },
  {
   "cell_type": "code",
   "execution_count": 9,
   "metadata": {},
   "outputs": [],
   "source": [
    "def pth_conv(input, kernel, stride=1, padding=0):\n",
    "    #input - N C H W (batch_size, Channels, H x W)\n",
    "    # in_channels, out_channels, bias, stride, padding\n",
    "\n",
    "    #kernel - out, in, kh, kw\n",
    "    out_channels, in_channels, kh, kw = kernel.shape\n",
    "    conv_layer = nn.Conv2d(in_channels, out_channels, kernel_size= (kh, kw), bias=False, stride=stride, padding=padding)\n",
    "    conv_layer.weight = nn.Parameter(kernel)\n",
    "    return conv_layer(input)"
   ]
  },
  {
   "cell_type": "code",
   "execution_count": 10,
   "metadata": {},
   "outputs": [
    {
     "name": "stdout",
     "output_type": "stream",
     "text": [
      "tensor([[[[ 6.,  8.],\n",
      "          [12., 14.]]]], grad_fn=<ConvolutionBackward0>)\n"
     ]
    }
   ],
   "source": [
    "input = torch.tensor([[1,2,3],[4,5,6],[7,8,9]]).unsqueeze(0).unsqueeze(0).float()\n",
    "kernel = torch.tensor([[1,0],[0,1]]).unsqueeze(0).unsqueeze(0).float()\n",
    "output = pth_conv(input, kernel)\n",
    "print(output)\n",
    "assert torch.equal(output, torch.tensor([[[[6,8],[12,14]]]]))"
   ]
  },
  {
   "cell_type": "code",
   "execution_count": 11,
   "metadata": {},
   "outputs": [
    {
     "name": "stdout",
     "output_type": "stream",
     "text": [
      "tensor([[[[6.]]]], grad_fn=<ConvolutionBackward0>)\n"
     ]
    }
   ],
   "source": [
    "input = torch.tensor([[1,2,3],[4,5,6],[7,8,9]]).unsqueeze(0).unsqueeze(0).float()\n",
    "kernel = torch.tensor([[1,0],[0,1]]).unsqueeze(0).unsqueeze(0).float()\n",
    "output = pth_conv(input, kernel, stride=2)\n",
    "print(output)\n",
    "assert torch.equal(output, torch.tensor([[[[6]]]]))"
   ]
  },
  {
   "cell_type": "code",
   "execution_count": 12,
   "metadata": {},
   "outputs": [
    {
     "name": "stdout",
     "output_type": "stream",
     "text": [
      "tensor([[[[0., 0.],\n",
      "          [0., 0.]]]], grad_fn=<ConvolutionBackward0>)\n"
     ]
    }
   ],
   "source": [
    "input = torch.tensor([[1,2,3],[4,5,6],[7,8,9]]).unsqueeze(0).unsqueeze(0).float()\n",
    "kernel = torch.tensor([[0,0],[0,0]]).unsqueeze(0).unsqueeze(0).float()\n",
    "output = pth_conv(input, kernel)\n",
    "print(output)\n",
    "assert torch.equal(output, torch.tensor([[[[0,0],[0,0]]]]))"
   ]
  }
 ],
 "metadata": {
  "kernelspec": {
   "display_name": "Python 3",
   "language": "python",
   "name": "python3"
  },
  "language_info": {
   "codemirror_mode": {
    "name": "ipython",
    "version": 3
   },
   "file_extension": ".py",
   "mimetype": "text/x-python",
   "name": "python",
   "nbconvert_exporter": "python",
   "pygments_lexer": "ipython3",
   "version": "3.10.11"
  }
 },
 "nbformat": 4,
 "nbformat_minor": 2
}
